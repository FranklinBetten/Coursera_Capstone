{
 "cells": [
  {
   "cell_type": "markdown",
   "metadata": {},
   "source": [
    "# Where to Start a Portuguese Restaurant in Washington DC\n",
    "### Project: Battle of the Neighborhoods\n",
    "### Date:    2020 APR 22 \n",
    "### Author:  Franklin Bettencourt\n",
    "\n",
    "## The Problem\n",
    "I want to get Portugese food but there arent any restaurants that server traditional Portugese food in Washington DC. Therefore I want to start my own and I need to find a location. Portuguese food is known for having great seafood and great pastries. So ideally it would be in a populus area, near other restaurants and other popular social venues but not near a seafood restaurant or bakery of some kind. \n",
    "\n",
    "## The Business Opportunity \n",
    "Portuguese food is known for two things - excellent seafood and excellent pastries. While Portugues food is not a common type of quisine, into days culture that can be a great draw to an neighborhood. People want to try something new. Since there are not many Portugese restaurants there will not be many direct competetors.\n",
    "\n",
    "## What data we will use to find our ideal location\n",
    "To find the best location to start a Portugese Restaraunt we will use the uszip python library for information about populations by zip code and the Four Square api to identify information about neighborhoods. we will use the Four square API to locate several thiings. \n",
    " - locate bakeries in DC \n",
    " - locate seafood restaurants\n",
    " - locate areas of high social gathering\n"
   ]
  },
  {
   "cell_type": "markdown",
   "metadata": {},
   "source": [
    "## Collect Data For Later Analysis "
   ]
  },
  {
   "cell_type": "markdown",
   "metadata": {},
   "source": [
    "## Transform Clean and Prepare Data"
   ]
  },
  {
   "cell_type": "markdown",
   "metadata": {},
   "source": [
    "## Plot \n",
    "### High potential locations\n",
    "- restauraunts on map of DC\n",
    "- social venus (bars, theatres, parks)\n",
    "\n",
    "* carry top 5 locations into next section * \n",
    "\n",
    "### Areas of High Competition for Baked goods and Seafood\n",
    "- plot bakeries on top 5 locations\n",
    "- plot seafood places on top 5 locations\n",
    "\n"
   ]
  },
  {
   "cell_type": "markdown",
   "metadata": {},
   "source": [
    "## Make final Decision"
   ]
  }
 ],
 "metadata": {
  "kernelspec": {
   "display_name": "Python 3",
   "language": "python",
   "name": "python3"
  },
  "language_info": {
   "codemirror_mode": {
    "name": "ipython",
    "version": 3
   },
   "file_extension": ".py",
   "mimetype": "text/x-python",
   "name": "python",
   "nbconvert_exporter": "python",
   "pygments_lexer": "ipython3",
   "version": "3.7.6"
  }
 },
 "nbformat": 4,
 "nbformat_minor": 4
}
